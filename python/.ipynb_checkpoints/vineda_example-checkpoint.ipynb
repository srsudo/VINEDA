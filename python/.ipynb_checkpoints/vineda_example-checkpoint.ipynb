{
 "cells": [
  {
   "cell_type": "markdown",
   "metadata": {},
   "source": [
    "### Running example with a test signal"
   ]
  },
  {
   "cell_type": "code",
   "execution_count": 2,
   "metadata": {},
   "outputs": [],
   "source": [
    "import numpy as np\n",
    "import vineda_minor"
   ]
  },
  {
   "cell_type": "markdown",
   "metadata": {},
   "source": [
    "# VINEDA ALGORITHM DESCRIPTION"
   ]
  },
  {
   "cell_type": "markdown",
   "metadata": {},
   "source": [
    "\n",
    "VINEDA is a pure signal processing algorithm designed to search for infrasound explosions. For demonstration purposes, we have selected an infrasound explosion previously saved into \".mat\" format, but it can extended to any of the most common seismic data formats. The details of the mathematical implementation of the algorithm is described in the following article: \n",
    "\n",
    "``\n",
    "Vineda: Volcanic Infrasound Explosions Detector Algorithm. Frontiers in Earth Science (2019). Bueno, A., Diaz-Moreno, A., Alvarez, I., De la Torre, A., Lamb, O.D., Zuccarello, L. and De Angelis, S.  \n",
    "``\n",
    "\n",
    "\n",
    "The nature of infrasound explosions require specific signal processing techniques in order to exploit wave information in a highly heterogeneus media. The implemented pipeline is depicted below\n",
    "\n",
    "\n",
    "\n",
    "\n",
    "\n",
    "\n",
    "\n",
    "\n",
    "\n",
    "\n",
    "\n"
   ]
  },
  {
   "cell_type": "code",
   "execution_count": 4,
   "metadata": {},
   "outputs": [],
   "source": [
    "signal = np.asarray(x[\"signal\"])\n",
    "fs = float(x[\"fs\"])\n",
    "# we convert to obspy to take advantage of Obspy processing routines.\n",
    "stream = vineda_minor.convert_to_obspy(signal, fs)"
   ]
  },
  {
   "cell_type": "code",
   "execution_count": 5,
   "metadata": {},
   "outputs": [],
   "source": [
    "fs = 100.0  # Original sampling rate\n",
    "f_high = 5.0  # Corner top frequency of the filter bank\n",
    "f_low = 1.0  # Minimum frequency of the band pass filter\n",
    "nfb = 3.0  # number of frequency bands \n",
    "dmin = 2.0 # minimum duration of the events\n",
    "dmax = 5.0 # maximum duration of the events\n",
    "ndb = 3.0 # Number of duration bands. IN this case, it will create a temporal array of duration 2.0, 3.0, 4.0, 5.0\n",
    "beta = 3.0  # Penalty factor for non - impulsive onsets"
   ]
  },
  {
   "cell_type": "code",
   "execution_count": 10,
   "metadata": {},
   "outputs": [],
   "source": [
    "cf, fsp = vineda_minor.detect_explosions(stream, stream.stats.sampling_rate, f_low, f_high, nfb, dmin, dmax, ndb, beta)"
   ]
  },
  {
   "cell_type": "markdown",
   "metadata": {},
   "source": [
    "## Plot results"
   ]
  },
  {
   "cell_type": "code",
   "execution_count": 12,
   "metadata": {},
   "outputs": [
    {
     "data": {
      "image/png": "[encoded data removed]",
      "text/plain": [
       "<Figure size 432x288 with 1 Axes>"
      ]
     },
     "metadata": {
      "needs_background": "light"
     },
     "output_type": "display_data"
    }
   ],
   "source": [
    "vineda_minor.plot_stream(cf, fsp, \"Detected explosion\")"
   ]
  }
 ],
 "metadata": {
  "kernelspec": {
   "display_name": "Python 2",
   "language": "python",
   "name": "python2"
  },
  "language_info": {
   "codemirror_mode": {
    "name": "ipython",
    "version": 2
   },
   "file_extension": ".py",
   "mimetype": "text/x-python",
   "name": "python",
   "nbconvert_exporter": "python",
   "pygments_lexer": "ipython2",
   "version": "2.7.15"
  }
 },
 "nbformat": 4,
 "nbformat_minor": 2
}
